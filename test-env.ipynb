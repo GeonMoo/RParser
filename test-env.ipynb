{
 "cells": [
  {
   "cell_type": "code",
   "execution_count": 1,
   "metadata": {},
   "outputs": [
    {
     "name": "stderr",
     "output_type": "stream",
     "text": [
      "e:\\personal\\documents\\github\\rparser\\venv\\lib\\site-packages\\ipykernel_launcher.py:39: DeprecationWarning: The StanfordParser will be deprecated\n",
      "Please use \u001B[91mnltk.parse.corenlp.CoreNLPParser\u001B[0m instead.\n"
     ]
    }
   ],
   "source": [
    "#!/usr/bin/env python\n",
    "# -*- coding: utf-8 -*-\n",
    "\n",
    "import os\n",
    "\n",
    "import nltk\n",
    "import yaml\n",
    "from nltk.parse import stanford\n",
    "from nltk.parse import corenlp\n",
    "\n",
    "from PreProcessor import PreProcessor\n",
    "from RParser import RParser\n",
    "\n",
    "__author__ = 'Shaun Rong'\n",
    "__version__ = '0.1'\n",
    "__maintainer__ = 'Shaun Rong'\n",
    "__email__ = 'rongzq08@gmail.com'\n",
    "\n",
    "\n",
    "with open('environ.yaml', 'r') as f:\n",
    "    env = yaml.load(f, Loader=yaml.FullLoader)\n",
    "\n",
    "stanford_parser_folder = env['stanford_parser_folder']\n",
    "\n",
    "os.environ['STANFORD_PARSER'] = stanford_parser_folder\n",
    "os.environ['STANFORD_MODELS'] = stanford_parser_folder\n",
    "\n",
    "cfuf = PreProcessor()\n",
    "with open('data\\\\input_output_arg\\\\train\\\\1.raw.txt', 'r', encoding='UTF-8') as f:\n",
    "    text = f.read().splitlines()\n",
    "\n",
    "#process_text, chemical_table, split_word = cfuf.process(text)\n",
    "process_text, chem_table = cfuf.process(text)\n",
    "\n",
    "\n",
    "sen = process_text[0]\n",
    "\n",
    "# DeprecationWarning: stanford.StanfordParser\n",
    "parser = stanford.StanfordParser(model_path=env['model_path'])\n",
    "\n",
    "#parser = corenlp.CoreNLPParser(model_path=env['model_path']) # Recommended to use, but not ready\n",
    "sentences = parser.raw_parse(sen)"
   ]
  },
  {
   "cell_type": "code",
   "execution_count": 2,
   "metadata": {
    "pycharm": {
     "name": "#%%\n"
    }
   },
   "outputs": [
    {
     "name": "stdout",
     "output_type": "stream",
     "text": [
      "(ROOT\n",
      "  (S\n",
      "    (ADVP (RB Separately))\n",
      "    (, ,)\n",
      "    (NP (NP (CD 0.02) (NN UNIT)) (PP (IN of) (NP (NNP COMPOUND))))\n",
      "    (VP\n",
      "      (VBD was)\n",
      "      (VP\n",
      "        (VBN dissolved)\n",
      "        (PP\n",
      "          (IN in)\n",
      "          (NP (NP (CD 50) (NN UNIT)) (PP (IN of) (NP (NN water)))))\n",
      "        (S\n",
      "          (VP\n",
      "            (TO to)\n",
      "            (VP\n",
      "              (VB form)\n",
      "              (NP\n",
      "                (NP (DT a) (ADJP (JJ clear)) (NN solution))\n",
      "                (PRN (-LRB- -LRB-) (NP (NNP A)) (-RRB- -RRB-))))))))\n",
      "    (. .)))\n"
     ]
    }
   ],
   "source": [
    "# print(next(sentences)) # Python 3 statement\n",
    "tree = next(sentences)\n",
    "print(tree)"
   ]
  },
  {
   "cell_type": "code",
   "execution_count": 5,
   "outputs": [
    {
     "name": "stdout",
     "output_type": "stream",
     "text": [
      "(VP\n",
      "  (VBD was)\n",
      "  (VP\n",
      "    (VBN dissolved)\n",
      "    (PP\n",
      "      (IN in)\n",
      "      (NP (NP (CD 50) (NN UNIT)) (PP (IN of) (NP (NN water)))))\n",
      "    (S\n",
      "      (VP\n",
      "        (TO to)\n",
      "        (VP\n",
      "          (VB form)\n",
      "          (NP\n",
      "            (NP (DT a) (ADJP (JJ clear)) (NN solution))\n",
      "            (PRN (-LRB- -LRB-) (NP (NNP A)) (-RRB- -RRB-))))))))\n"
     ]
    }
   ],
   "source": [
    "print(tree[0,3])\n"
   ],
   "metadata": {
    "collapsed": false,
    "pycharm": {
     "name": "#%%\n"
    }
   }
  },
  {
   "cell_type": "code",
   "execution_count": 6,
   "outputs": [
    {
     "name": "stdout",
     "output_type": "stream",
     "text": [
      "['Separately , 0.02 UNIT of COMPOUND was dissolved in 50 UNIT of water to form a clear solution (A) .', 'A total of 0.02 UNIT of COMPOUND and 20 UNIT of Na2CO3 were dissolved in 100 UNIT of water to form a clear solution COMPOUND .', 'Solution A was then quickly added to solution B under fast magnetic stirring .', 'The obtained slurry was then transferred to a glass bottle sealed with a cap .', 'The bottle was heated in a 120 UNIT oil bath in an Ar flushed glovebox for NUMBER UNIT , after which it was taken out of the oil bath and slowly cooled down to room temperature .', 'The slurry was centrifuged and washed with distilled water and methanol several times to separate the solids .', 'The solid samples were dried in a vacuum oven at 40 UNIT overnight .']\n"
     ]
    }
   ],
   "source": [
    "print(process_text)\n",
    "\n"
   ],
   "metadata": {
    "collapsed": false,
    "pycharm": {
     "name": "#%%\n"
    }
   }
  },
  {
   "cell_type": "code",
   "execution_count": 7,
   "outputs": [
    {
     "name": "stdout",
     "output_type": "stream",
     "text": [
      "{'mol': 'UNIT', 'Mn(NO3)2·4H2O': 'COMPOUND', 'mL': 'UNIT', '(NH4)2HPO4': 'COMPOUND', 'g': 'UNIT', '(B)': 'COMPOUND', '°C': 'UNIT', '4−72': 'NUMBER', 'h': 'UNIT'}\n"
     ]
    }
   ],
   "source": [
    "print(chem_table)"
   ],
   "metadata": {
    "collapsed": false,
    "pycharm": {
     "name": "#%%\n"
    }
   }
  },
  {
   "cell_type": "code",
   "execution_count": null,
   "outputs": [],
   "source": [
    "\n"
   ],
   "metadata": {
    "collapsed": false,
    "pycharm": {
     "name": "#%%\n"
    }
   }
  }
 ],
 "metadata": {
  "kernelspec": {
   "display_name": "Python 3",
   "language": "python",
   "name": "python3"
  },
  "language_info": {
   "codemirror_mode": {
    "name": "ipython",
    "version": 3
   },
   "file_extension": ".py",
   "mimetype": "text/x-python",
   "name": "python",
   "nbconvert_exporter": "python",
   "pygments_lexer": "ipython3",
   "version": "3.7.4"
  }
 },
 "nbformat": 4,
 "nbformat_minor": 1
}